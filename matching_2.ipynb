{
 "cells": [
  {
   "cell_type": "code",
   "execution_count": 1,
   "id": "fd9767e1-511d-4509-a74f-709dedd480d3",
   "metadata": {},
   "outputs": [
    {
     "name": "stdout",
     "output_type": "stream",
     "text": [
      "Requirement already satisfied: faiss-cpu in c:\\users\\vasilii\\anaconda3_1\\lib\\site-packages (1.7.4)\n",
      "Requirement already satisfied: catboost in c:\\users\\vasilii\\anaconda3_1\\lib\\site-packages (1.2)\n",
      "Requirement already satisfied: numpy>=1.16.0 in c:\\users\\vasilii\\anaconda3_1\\lib\\site-packages (from catboost) (1.23.5)\n",
      "Requirement already satisfied: six in c:\\users\\vasilii\\anaconda3_1\\lib\\site-packages (from catboost) (1.16.0)\n",
      "Requirement already satisfied: plotly in c:\\users\\vasilii\\anaconda3_1\\lib\\site-packages (from catboost) (5.9.0)\n",
      "Requirement already satisfied: graphviz in c:\\users\\vasilii\\anaconda3_1\\lib\\site-packages (from catboost) (0.20.1)\n",
      "Requirement already satisfied: matplotlib in c:\\users\\vasilii\\anaconda3_1\\lib\\site-packages (from catboost) (3.7.0)\n",
      "Requirement already satisfied: pandas>=0.24 in c:\\users\\vasilii\\anaconda3_1\\lib\\site-packages (from catboost) (2.0.3)\n",
      "Requirement already satisfied: scipy in c:\\users\\vasilii\\anaconda3_1\\lib\\site-packages (from catboost) (1.10.0)\n",
      "Requirement already satisfied: pytz>=2020.1 in c:\\users\\vasilii\\anaconda3_1\\lib\\site-packages (from pandas>=0.24->catboost) (2022.7)\n",
      "Requirement already satisfied: tzdata>=2022.1 in c:\\users\\vasilii\\anaconda3_1\\lib\\site-packages (from pandas>=0.24->catboost) (2023.3)\n",
      "Requirement already satisfied: python-dateutil>=2.8.2 in c:\\users\\vasilii\\anaconda3_1\\lib\\site-packages (from pandas>=0.24->catboost) (2.8.2)\n",
      "Requirement already satisfied: pillow>=6.2.0 in c:\\users\\vasilii\\anaconda3_1\\lib\\site-packages (from matplotlib->catboost) (9.4.0)\n",
      "Requirement already satisfied: cycler>=0.10 in c:\\users\\vasilii\\anaconda3_1\\lib\\site-packages (from matplotlib->catboost) (0.11.0)\n",
      "Requirement already satisfied: pyparsing>=2.3.1 in c:\\users\\vasilii\\anaconda3_1\\lib\\site-packages (from matplotlib->catboost) (3.0.9)\n",
      "Requirement already satisfied: packaging>=20.0 in c:\\users\\vasilii\\anaconda3_1\\lib\\site-packages (from matplotlib->catboost) (22.0)\n",
      "Requirement already satisfied: contourpy>=1.0.1 in c:\\users\\vasilii\\anaconda3_1\\lib\\site-packages (from matplotlib->catboost) (1.0.5)\n",
      "Requirement already satisfied: fonttools>=4.22.0 in c:\\users\\vasilii\\anaconda3_1\\lib\\site-packages (from matplotlib->catboost) (4.25.0)\n",
      "Requirement already satisfied: kiwisolver>=1.0.1 in c:\\users\\vasilii\\anaconda3_1\\lib\\site-packages (from matplotlib->catboost) (1.4.4)\n",
      "Requirement already satisfied: tenacity>=6.2.0 in c:\\users\\vasilii\\anaconda3_1\\lib\\site-packages (from plotly->catboost) (8.0.1)\n"
     ]
    }
   ],
   "source": [
    "!pip install faiss-cpu catboost"
   ]
  },
  {
   "cell_type": "code",
   "execution_count": 211,
   "id": "6f3df95a-bffe-4a8b-bff1-bbc96f696b87",
   "metadata": {},
   "outputs": [],
   "source": [
    "import faiss\n",
    "\n",
    "import pandas as pd\n",
    "import numpy as np\n",
    "\n",
    "from catboost import CatBoostClassifier\n",
    "from itertools import chain\n",
    "from sklearn.preprocessing import MinMaxScaler\n",
    "from tqdm.notebook import tqdm"
   ]
  },
  {
   "cell_type": "markdown",
   "id": "24fb0375-4cf2-46b1-8947-a2b18efe0296",
   "metadata": {},
   "source": [
    "# Load data"
   ]
  },
  {
   "cell_type": "code",
   "execution_count": 3,
   "id": "2043d1f5-7605-4291-bcec-adb46c10b49a",
   "metadata": {},
   "outputs": [],
   "source": [
    "df_base = pd.read_csv('../Master_room2/data/base.csv', index_col=0)\n",
    "df_train = pd.read_csv('../Master_room2/data/target.csv', index_col=0)\n",
    "df_validation = pd.read_csv('../Master_room2/data/validation.csv', index_col=0)\n",
    "df_validation_answer = pd.read_csv('../Master_room2/data/validation_answer.csv', index_col=0)"
   ]
  },
  {
   "cell_type": "code",
   "execution_count": 4,
   "id": "29d2c836-4bbf-4feb-b02b-72d18a8cf845",
   "metadata": {},
   "outputs": [
    {
     "data": {
      "text/html": [
       "<div>\n",
       "<style scoped>\n",
       "    .dataframe tbody tr th:only-of-type {\n",
       "        vertical-align: middle;\n",
       "    }\n",
       "\n",
       "    .dataframe tbody tr th {\n",
       "        vertical-align: top;\n",
       "    }\n",
       "\n",
       "    .dataframe thead th {\n",
       "        text-align: right;\n",
       "    }\n",
       "</style>\n",
       "<table border=\"1\" class=\"dataframe\">\n",
       "  <thead>\n",
       "    <tr style=\"text-align: right;\">\n",
       "      <th></th>\n",
       "      <th>0</th>\n",
       "      <th>1</th>\n",
       "      <th>2</th>\n",
       "      <th>3</th>\n",
       "      <th>4</th>\n",
       "      <th>5</th>\n",
       "      <th>6</th>\n",
       "      <th>7</th>\n",
       "      <th>8</th>\n",
       "      <th>9</th>\n",
       "      <th>...</th>\n",
       "      <th>63</th>\n",
       "      <th>64</th>\n",
       "      <th>65</th>\n",
       "      <th>66</th>\n",
       "      <th>67</th>\n",
       "      <th>68</th>\n",
       "      <th>69</th>\n",
       "      <th>70</th>\n",
       "      <th>71</th>\n",
       "      <th>Target</th>\n",
       "    </tr>\n",
       "    <tr>\n",
       "      <th>Id</th>\n",
       "      <th></th>\n",
       "      <th></th>\n",
       "      <th></th>\n",
       "      <th></th>\n",
       "      <th></th>\n",
       "      <th></th>\n",
       "      <th></th>\n",
       "      <th></th>\n",
       "      <th></th>\n",
       "      <th></th>\n",
       "      <th></th>\n",
       "      <th></th>\n",
       "      <th></th>\n",
       "      <th></th>\n",
       "      <th></th>\n",
       "      <th></th>\n",
       "      <th></th>\n",
       "      <th></th>\n",
       "      <th></th>\n",
       "      <th></th>\n",
       "      <th></th>\n",
       "    </tr>\n",
       "  </thead>\n",
       "  <tbody>\n",
       "    <tr>\n",
       "      <th>0-query</th>\n",
       "      <td>-53.882748</td>\n",
       "      <td>17.971436</td>\n",
       "      <td>-42.117104</td>\n",
       "      <td>-183.93668</td>\n",
       "      <td>187.517490</td>\n",
       "      <td>-87.144930</td>\n",
       "      <td>-347.360606</td>\n",
       "      <td>38.307602</td>\n",
       "      <td>109.085560</td>\n",
       "      <td>30.413513</td>\n",
       "      <td>...</td>\n",
       "      <td>70.107360</td>\n",
       "      <td>-155.80257</td>\n",
       "      <td>-101.965943</td>\n",
       "      <td>65.903790</td>\n",
       "      <td>34.457500</td>\n",
       "      <td>62.642094</td>\n",
       "      <td>134.763600</td>\n",
       "      <td>-415.750254</td>\n",
       "      <td>-25.958572</td>\n",
       "      <td>675816-base</td>\n",
       "    </tr>\n",
       "    <tr>\n",
       "      <th>1-query</th>\n",
       "      <td>-87.776370</td>\n",
       "      <td>6.806268</td>\n",
       "      <td>-32.054546</td>\n",
       "      <td>-177.26039</td>\n",
       "      <td>120.803330</td>\n",
       "      <td>-83.810590</td>\n",
       "      <td>-94.572749</td>\n",
       "      <td>-78.433090</td>\n",
       "      <td>124.915900</td>\n",
       "      <td>140.331070</td>\n",
       "      <td>...</td>\n",
       "      <td>4.669178</td>\n",
       "      <td>-151.69771</td>\n",
       "      <td>-1.638704</td>\n",
       "      <td>68.170876</td>\n",
       "      <td>25.096191</td>\n",
       "      <td>89.974976</td>\n",
       "      <td>130.589630</td>\n",
       "      <td>-1035.092211</td>\n",
       "      <td>-51.276833</td>\n",
       "      <td>366656-base</td>\n",
       "    </tr>\n",
       "    <tr>\n",
       "      <th>2-query</th>\n",
       "      <td>-49.979565</td>\n",
       "      <td>3.841486</td>\n",
       "      <td>-116.118590</td>\n",
       "      <td>-180.40198</td>\n",
       "      <td>190.128430</td>\n",
       "      <td>-50.837620</td>\n",
       "      <td>26.943937</td>\n",
       "      <td>-30.447489</td>\n",
       "      <td>125.771164</td>\n",
       "      <td>211.607820</td>\n",
       "      <td>...</td>\n",
       "      <td>78.039764</td>\n",
       "      <td>-169.14620</td>\n",
       "      <td>82.144186</td>\n",
       "      <td>66.008220</td>\n",
       "      <td>18.400496</td>\n",
       "      <td>212.409730</td>\n",
       "      <td>121.931470</td>\n",
       "      <td>-1074.464888</td>\n",
       "      <td>-22.547178</td>\n",
       "      <td>1447819-base</td>\n",
       "    </tr>\n",
       "    <tr>\n",
       "      <th>3-query</th>\n",
       "      <td>-47.810562</td>\n",
       "      <td>9.086598</td>\n",
       "      <td>-115.401695</td>\n",
       "      <td>-121.01136</td>\n",
       "      <td>94.652840</td>\n",
       "      <td>-109.255410</td>\n",
       "      <td>-775.150134</td>\n",
       "      <td>79.186520</td>\n",
       "      <td>124.003100</td>\n",
       "      <td>242.650650</td>\n",
       "      <td>...</td>\n",
       "      <td>44.515266</td>\n",
       "      <td>-145.41675</td>\n",
       "      <td>93.990981</td>\n",
       "      <td>64.131350</td>\n",
       "      <td>106.061920</td>\n",
       "      <td>83.178760</td>\n",
       "      <td>118.277725</td>\n",
       "      <td>-1074.464888</td>\n",
       "      <td>-19.902788</td>\n",
       "      <td>1472602-base</td>\n",
       "    </tr>\n",
       "    <tr>\n",
       "      <th>4-query</th>\n",
       "      <td>-79.632126</td>\n",
       "      <td>14.442886</td>\n",
       "      <td>-58.903397</td>\n",
       "      <td>-147.05254</td>\n",
       "      <td>57.127068</td>\n",
       "      <td>-16.239529</td>\n",
       "      <td>-321.317964</td>\n",
       "      <td>45.984676</td>\n",
       "      <td>125.941284</td>\n",
       "      <td>103.392670</td>\n",
       "      <td>...</td>\n",
       "      <td>45.028910</td>\n",
       "      <td>-196.09207</td>\n",
       "      <td>-117.626337</td>\n",
       "      <td>66.926220</td>\n",
       "      <td>42.456170</td>\n",
       "      <td>77.621765</td>\n",
       "      <td>92.479930</td>\n",
       "      <td>-1074.464888</td>\n",
       "      <td>-21.149351</td>\n",
       "      <td>717819-base</td>\n",
       "    </tr>\n",
       "  </tbody>\n",
       "</table>\n",
       "<p>5 rows × 73 columns</p>\n",
       "</div>"
      ],
      "text/plain": [
       "                 0          1           2          3           4           5  \\\n",
       "Id                                                                             \n",
       "0-query -53.882748  17.971436  -42.117104 -183.93668  187.517490  -87.144930   \n",
       "1-query -87.776370   6.806268  -32.054546 -177.26039  120.803330  -83.810590   \n",
       "2-query -49.979565   3.841486 -116.118590 -180.40198  190.128430  -50.837620   \n",
       "3-query -47.810562   9.086598 -115.401695 -121.01136   94.652840 -109.255410   \n",
       "4-query -79.632126  14.442886  -58.903397 -147.05254   57.127068  -16.239529   \n",
       "\n",
       "                  6          7           8           9  ...         63  \\\n",
       "Id                                                      ...              \n",
       "0-query -347.360606  38.307602  109.085560   30.413513  ...  70.107360   \n",
       "1-query  -94.572749 -78.433090  124.915900  140.331070  ...   4.669178   \n",
       "2-query   26.943937 -30.447489  125.771164  211.607820  ...  78.039764   \n",
       "3-query -775.150134  79.186520  124.003100  242.650650  ...  44.515266   \n",
       "4-query -321.317964  45.984676  125.941284  103.392670  ...  45.028910   \n",
       "\n",
       "                64          65         66          67          68          69  \\\n",
       "Id                                                                              \n",
       "0-query -155.80257 -101.965943  65.903790   34.457500   62.642094  134.763600   \n",
       "1-query -151.69771   -1.638704  68.170876   25.096191   89.974976  130.589630   \n",
       "2-query -169.14620   82.144186  66.008220   18.400496  212.409730  121.931470   \n",
       "3-query -145.41675   93.990981  64.131350  106.061920   83.178760  118.277725   \n",
       "4-query -196.09207 -117.626337  66.926220   42.456170   77.621765   92.479930   \n",
       "\n",
       "                  70         71        Target  \n",
       "Id                                             \n",
       "0-query  -415.750254 -25.958572   675816-base  \n",
       "1-query -1035.092211 -51.276833   366656-base  \n",
       "2-query -1074.464888 -22.547178  1447819-base  \n",
       "3-query -1074.464888 -19.902788  1472602-base  \n",
       "4-query -1074.464888 -21.149351   717819-base  \n",
       "\n",
       "[5 rows x 73 columns]"
      ]
     },
     "execution_count": 4,
     "metadata": {},
     "output_type": "execute_result"
    }
   ],
   "source": [
    "df_train.head(5)"
   ]
  },
  {
   "cell_type": "code",
   "execution_count": 5,
   "id": "7218a3bc-21d4-4cf6-b968-dc45074b02cc",
   "metadata": {},
   "outputs": [
    {
     "data": {
      "text/plain": [
       "(100000, 73)"
      ]
     },
     "execution_count": 5,
     "metadata": {},
     "output_type": "execute_result"
    }
   ],
   "source": [
    "df_train.shape"
   ]
  },
  {
   "cell_type": "code",
   "execution_count": 6,
   "id": "0f8c41a5-bdfb-47f1-9cb6-230bc70c7606",
   "metadata": {},
   "outputs": [],
   "source": [
    "targets = df_train['Target']\n",
    "df_train.drop(columns=['Target'], inplace=True)"
   ]
  },
  {
   "cell_type": "code",
   "execution_count": 7,
   "id": "fae66927-5581-47a4-84aa-bb824449af5c",
   "metadata": {},
   "outputs": [
    {
     "data": {
      "image/png": "[encoded data removed]",
      "text/plain": [
       "<Figure size 1500x900 with 72 Axes>"
      ]
     },
     "metadata": {},
     "output_type": "display_data"
    }
   ],
   "source": [
    "df_train.hist(bins=10, figsize=(15, 9));"
   ]
  },
  {
   "cell_type": "markdown",
   "id": "e8f584e4-855a-4422-b512-cc8a98b6f18f",
   "metadata": {},
   "source": [
    "### Create index"
   ]
  },
  {
   "cell_type": "code",
   "execution_count": 8,
   "id": "6828a6b3-6ba8-4322-ad8c-a562e1b4695d",
   "metadata": {},
   "outputs": [],
   "source": [
    "#count of Index, d=dimensions\n",
    "d = df_base.shape[1]\n",
    "#claster count\n",
    "n_cells = 36\n",
    "#call Index type with L2 (Eucledian distance) with \"d\" dimension\n",
    "quantizer = faiss.IndexFlatL2(d)\n",
    "#\n",
    "idx_l2 = faiss.IndexIVFFlat(quantizer, d, n_cells)"
   ]
  },
  {
   "cell_type": "code",
   "execution_count": 9,
   "id": "958317bd-a81f-43e0-ac70-62321a3f783a",
   "metadata": {},
   "outputs": [],
   "source": [
    "#train vectors for creating clusters\n",
    "idx_l2.train(np.ascontiguousarray(df_base.values[:, :]).astype('float32'))"
   ]
  },
  {
   "cell_type": "code",
   "execution_count": 10,
   "id": "692d8b99-df00-4aca-a94f-763764f81716",
   "metadata": {},
   "outputs": [
    {
     "data": {
      "text/plain": [
       "True"
      ]
     },
     "execution_count": 10,
     "metadata": {},
     "output_type": "execute_result"
    }
   ],
   "source": [
    "#check if model is trained\n",
    "idx_l2.is_trained"
   ]
  },
  {
   "cell_type": "code",
   "execution_count": 11,
   "id": "b69f2a52-0781-4c1c-9e67-5da4784c408e",
   "metadata": {},
   "outputs": [],
   "source": [
    "#drop indexes into field of Voronoi space\n",
    "idx_l2.add(np.ascontiguousarray(df_base.values).astype('float32'))"
   ]
  },
  {
   "cell_type": "markdown",
   "id": "10b3a2f4-e4a3-47bf-9cbf-fe46af188708",
   "metadata": {},
   "source": [
    "### Search for K-nearest neighbors"
   ]
  },
  {
   "cell_type": "code",
   "execution_count": 12,
   "id": "4d50f2d2-089c-4fcf-8961-62d518c4c191",
   "metadata": {},
   "outputs": [],
   "source": [
    "#number of required neighbors\n",
    "k = 100"
   ]
  },
  {
   "cell_type": "code",
   "execution_count": 13,
   "id": "8b70e239-3e5f-4362-86cb-a3ecf6926ee1",
   "metadata": {},
   "outputs": [],
   "source": [
    "#how many clasters(cells) will be used for search\n",
    "idx_l2.nprobe = 20"
   ]
  },
  {
   "cell_type": "code",
   "execution_count": 14,
   "id": "b95757aa-28b7-4eac-ba5f-3ed0fbb6907d",
   "metadata": {},
   "outputs": [
    {
     "name": "stdout",
     "output_type": "stream",
     "text": [
      "CPU times: total: 3h 15min 14s\n",
      "Wall time: 25min 53s\n"
     ]
    }
   ],
   "source": [
    "%%time\n",
    "vecs, idx = idx_l2.search(np.ascontiguousarray(df_train.values).astype('float32'), k)"
   ]
  },
  {
   "cell_type": "code",
   "execution_count": 15,
   "id": "12065998-55f2-49a5-961b-e48930225629",
   "metadata": {},
   "outputs": [],
   "source": [
    "#creating a dict for indexes\n",
    "base_index = {k: v for k, v in enumerate(df_base.index.to_list())}"
   ]
  },
  {
   "cell_type": "code",
   "execution_count": 16,
   "id": "e4fbd874-1264-4916-8049-c080db3b1b98",
   "metadata": {},
   "outputs": [
    {
     "name": "stdout",
     "output_type": "stream",
     "text": [
      "17.829\n"
     ]
    }
   ],
   "source": [
    "#accuracy\n",
    "acc = 0\n",
    "\n",
    "for target, el in zip(targets.values.tolist(), idx.tolist()):\n",
    "    acc += int(target in [base_index[r] for r in el])\n",
    "\n",
    "print(100* acc / len(idx))"
   ]
  },
  {
   "cell_type": "code",
   "execution_count": 146,
   "id": "d3917db7-b7b2-4b9d-980e-a65ec9d1d1d8",
   "metadata": {},
   "outputs": [
    {
     "data": {
      "text/plain": [
       "(100000, 100)"
      ]
     },
     "execution_count": 146,
     "metadata": {},
     "output_type": "execute_result"
    }
   ],
   "source": [
    "idx.shape"
   ]
  },
  {
   "cell_type": "code",
   "execution_count": 147,
   "id": "2f1b6a79-9596-4882-a2bc-f8b8ea081c89",
   "metadata": {},
   "outputs": [
    {
     "data": {
      "text/plain": [
       "array([[1480698,  161948, 1076334, ..., 1925889,  683928, 1447856],\n",
       "       [ 445586,  920175, 2168908, ..., 1713682, 2183201, 2120879],\n",
       "       [1659033,  760940,  656828, ..., 1123704,  456836, 1961245],\n",
       "       ...,\n",
       "       [2690258,  700937, 1242425, ..., 2274259,  241051, 1869141],\n",
       "       [1197717, 2500439, 2265191, ..., 1220716, 1052388,  141460],\n",
       "       [1958647,  272735,  458565, ..., 1226406,  583213,  378929]],\n",
       "      dtype=int64)"
      ]
     },
     "execution_count": 147,
     "metadata": {},
     "output_type": "execute_result"
    }
   ],
   "source": [
    "idx"
   ]
  },
  {
   "cell_type": "code",
   "execution_count": 195,
   "id": "eae6d2c8-f70c-498f-8b04-e4aee64b78b6",
   "metadata": {},
   "outputs": [],
   "source": [
    "#change to DataFrame type, just for simplify\n",
    "df_idx = pd.DataFrame(idx)"
   ]
  },
  {
   "cell_type": "code",
   "execution_count": 196,
   "id": "68e5d90c-a9d3-431a-8c64-2b8214e13261",
   "metadata": {},
   "outputs": [],
   "source": [
    "df_idx = df_idx.iloc[:, :100]"
   ]
  },
  {
   "cell_type": "code",
   "execution_count": 149,
   "id": "e23ca540-d2a5-439d-815e-daa453d25d79",
   "metadata": {},
   "outputs": [
    {
     "data": {
      "text/html": [
       "<div>\n",
       "<style scoped>\n",
       "    .dataframe tbody tr th:only-of-type {\n",
       "        vertical-align: middle;\n",
       "    }\n",
       "\n",
       "    .dataframe tbody tr th {\n",
       "        vertical-align: top;\n",
       "    }\n",
       "\n",
       "    .dataframe thead th {\n",
       "        text-align: right;\n",
       "    }\n",
       "</style>\n",
       "<table border=\"1\" class=\"dataframe\">\n",
       "  <thead>\n",
       "    <tr style=\"text-align: right;\">\n",
       "      <th></th>\n",
       "      <th>0</th>\n",
       "      <th>1</th>\n",
       "      <th>2</th>\n",
       "      <th>3</th>\n",
       "      <th>4</th>\n",
       "      <th>5</th>\n",
       "      <th>6</th>\n",
       "      <th>7</th>\n",
       "      <th>8</th>\n",
       "      <th>9</th>\n",
       "      <th>...</th>\n",
       "      <th>90</th>\n",
       "      <th>91</th>\n",
       "      <th>92</th>\n",
       "      <th>93</th>\n",
       "      <th>94</th>\n",
       "      <th>95</th>\n",
       "      <th>96</th>\n",
       "      <th>97</th>\n",
       "      <th>98</th>\n",
       "      <th>99</th>\n",
       "    </tr>\n",
       "  </thead>\n",
       "  <tbody>\n",
       "    <tr>\n",
       "      <th>5638</th>\n",
       "      <td>247710</td>\n",
       "      <td>1613353</td>\n",
       "      <td>1037619</td>\n",
       "      <td>206696</td>\n",
       "      <td>2876220</td>\n",
       "      <td>565870</td>\n",
       "      <td>2581646</td>\n",
       "      <td>733719</td>\n",
       "      <td>1107211</td>\n",
       "      <td>2088769</td>\n",
       "      <td>...</td>\n",
       "      <td>1188639</td>\n",
       "      <td>2505810</td>\n",
       "      <td>2904484</td>\n",
       "      <td>2498112</td>\n",
       "      <td>710161</td>\n",
       "      <td>2134623</td>\n",
       "      <td>1066510</td>\n",
       "      <td>2607347</td>\n",
       "      <td>2814829</td>\n",
       "      <td>274492</td>\n",
       "    </tr>\n",
       "  </tbody>\n",
       "</table>\n",
       "<p>1 rows × 100 columns</p>\n",
       "</div>"
      ],
      "text/plain": [
       "          0        1        2       3        4       5        6       7   \\\n",
       "5638  247710  1613353  1037619  206696  2876220  565870  2581646  733719   \n",
       "\n",
       "           8        9   ...       90       91       92       93      94  \\\n",
       "5638  1107211  2088769  ...  1188639  2505810  2904484  2498112  710161   \n",
       "\n",
       "           95       96       97       98      99  \n",
       "5638  2134623  1066510  2607347  2814829  274492  \n",
       "\n",
       "[1 rows x 100 columns]"
      ]
     },
     "execution_count": 149,
     "metadata": {},
     "output_type": "execute_result"
    }
   ],
   "source": [
    "df_idx.sample()"
   ]
  },
  {
   "cell_type": "markdown",
   "id": "906f0935-c5a4-4ded-add4-73accf28a93f",
   "metadata": {},
   "source": [
    "### Preparing Target dataset"
   ]
  },
  {
   "cell_type": "code",
   "execution_count": 174,
   "id": "bf5c2f34-adec-4e62-9859-646ec80d05be",
   "metadata": {},
   "outputs": [],
   "source": [
    "#rename column\n",
    "targets.name = 'base_name'"
   ]
  },
  {
   "cell_type": "code",
   "execution_count": 184,
   "id": "2a5d8e6d-decb-4f96-96d7-5664c19e4f89",
   "metadata": {},
   "outputs": [
    {
     "data": {
      "text/html": [
       "<div>\n",
       "<style scoped>\n",
       "    .dataframe tbody tr th:only-of-type {\n",
       "        vertical-align: middle;\n",
       "    }\n",
       "\n",
       "    .dataframe tbody tr th {\n",
       "        vertical-align: top;\n",
       "    }\n",
       "\n",
       "    .dataframe thead th {\n",
       "        text-align: right;\n",
       "    }\n",
       "</style>\n",
       "<table border=\"1\" class=\"dataframe\">\n",
       "  <thead>\n",
       "    <tr style=\"text-align: right;\">\n",
       "      <th></th>\n",
       "      <th>Id</th>\n",
       "      <th>base_name</th>\n",
       "    </tr>\n",
       "  </thead>\n",
       "  <tbody>\n",
       "    <tr>\n",
       "      <th>0</th>\n",
       "      <td>0-query</td>\n",
       "      <td>675816-base</td>\n",
       "    </tr>\n",
       "    <tr>\n",
       "      <th>1</th>\n",
       "      <td>1-query</td>\n",
       "      <td>366656-base</td>\n",
       "    </tr>\n",
       "    <tr>\n",
       "      <th>2</th>\n",
       "      <td>2-query</td>\n",
       "      <td>1447819-base</td>\n",
       "    </tr>\n",
       "    <tr>\n",
       "      <th>3</th>\n",
       "      <td>3-query</td>\n",
       "      <td>1472602-base</td>\n",
       "    </tr>\n",
       "    <tr>\n",
       "      <th>4</th>\n",
       "      <td>4-query</td>\n",
       "      <td>717819-base</td>\n",
       "    </tr>\n",
       "  </tbody>\n",
       "</table>\n",
       "</div>"
      ],
      "text/plain": [
       "        Id     base_name\n",
       "0  0-query   675816-base\n",
       "1  1-query   366656-base\n",
       "2  2-query  1447819-base\n",
       "3  3-query  1472602-base\n",
       "4  4-query   717819-base"
      ]
     },
     "execution_count": 184,
     "metadata": {},
     "output_type": "execute_result"
    }
   ],
   "source": [
    "#creating new column for searching and comparing\n",
    "targets = targets.reset_index()\n",
    "targets.head()"
   ]
  },
  {
   "cell_type": "code",
   "execution_count": 187,
   "id": "a4e2ae75-89bb-4ec5-8d15-e004e491600d",
   "metadata": {},
   "outputs": [],
   "source": [
    "#adding index for related name of base_name line in df_base\n",
    "targets['base_index'] = [df_base.index.get_loc(name) for name in targets['base_name']]"
   ]
  },
  {
   "cell_type": "code",
   "execution_count": 188,
   "id": "363933e7-4205-427a-8570-023c3e91297e",
   "metadata": {},
   "outputs": [
    {
     "data": {
      "text/html": [
       "<div>\n",
       "<style scoped>\n",
       "    .dataframe tbody tr th:only-of-type {\n",
       "        vertical-align: middle;\n",
       "    }\n",
       "\n",
       "    .dataframe tbody tr th {\n",
       "        vertical-align: top;\n",
       "    }\n",
       "\n",
       "    .dataframe thead th {\n",
       "        text-align: right;\n",
       "    }\n",
       "</style>\n",
       "<table border=\"1\" class=\"dataframe\">\n",
       "  <thead>\n",
       "    <tr style=\"text-align: right;\">\n",
       "      <th></th>\n",
       "      <th>Id</th>\n",
       "      <th>base_name</th>\n",
       "      <th>base_index</th>\n",
       "    </tr>\n",
       "  </thead>\n",
       "  <tbody>\n",
       "    <tr>\n",
       "      <th>0</th>\n",
       "      <td>0-query</td>\n",
       "      <td>675816-base</td>\n",
       "      <td>598613</td>\n",
       "    </tr>\n",
       "    <tr>\n",
       "      <th>1</th>\n",
       "      <td>1-query</td>\n",
       "      <td>366656-base</td>\n",
       "      <td>341406</td>\n",
       "    </tr>\n",
       "    <tr>\n",
       "      <th>2</th>\n",
       "      <td>2-query</td>\n",
       "      <td>1447819-base</td>\n",
       "      <td>1162532</td>\n",
       "    </tr>\n",
       "    <tr>\n",
       "      <th>3</th>\n",
       "      <td>3-query</td>\n",
       "      <td>1472602-base</td>\n",
       "      <td>1179186</td>\n",
       "    </tr>\n",
       "    <tr>\n",
       "      <th>4</th>\n",
       "      <td>4-query</td>\n",
       "      <td>717819-base</td>\n",
       "      <td>631912</td>\n",
       "    </tr>\n",
       "  </tbody>\n",
       "</table>\n",
       "</div>"
      ],
      "text/plain": [
       "        Id     base_name  base_index\n",
       "0  0-query   675816-base      598613\n",
       "1  1-query   366656-base      341406\n",
       "2  2-query  1447819-base     1162532\n",
       "3  3-query  1472602-base     1179186\n",
       "4  4-query   717819-base      631912"
      ]
     },
     "execution_count": 188,
     "metadata": {},
     "output_type": "execute_result"
    }
   ],
   "source": [
    "targets.head()"
   ]
  },
  {
   "cell_type": "markdown",
   "id": "fb054bab-8c24-456f-8a81-012cb439865b",
   "metadata": {},
   "source": [
    "### Creating new dataset of features for next predictions"
   ]
  },
  {
   "cell_type": "code",
   "execution_count": 151,
   "id": "70e2f457-d858-4aca-be0b-fae5523847d6",
   "metadata": {},
   "outputs": [
    {
     "name": "stdout",
     "output_type": "stream",
     "text": [
      "CPU times: total: 3min 16s\n",
      "Wall time: 3min 16s\n"
     ]
    }
   ],
   "source": [
    "#creating a new list with 144 features, with correlated 'query' vector and 'base' vector\n",
    "#in 2nd cycle 'for' you might change count of knn ([:10]) for next modeling\n",
    "%%time\n",
    "new_df = []\n",
    "for i, row in df_idx.iterrows():\n",
    "    train_line = df_train.iloc[i, :].copy()\n",
    "    for el in row[:10]:\n",
    "        combined_row = pd.concat([train_line, df_base.iloc[el,:]], axis=0, ignore_index=True)\n",
    "        new_df.append(combined_row)\n"
   ]
  },
  {
   "cell_type": "code",
   "execution_count": 155,
   "id": "08c70107-2e54-4029-9e2b-5b13dadb7fc4",
   "metadata": {},
   "outputs": [
    {
     "name": "stdout",
     "output_type": "stream",
     "text": [
      "CPU times: total: 0 ns\n",
      "Wall time: 1.99 ms\n"
     ]
    }
   ],
   "source": [
    "%%time\n",
    "#change type to pd.DataFrame, for simplify work\n",
    "new_df = pd.DataFrame(new_df)"
   ]
  },
  {
   "cell_type": "code",
   "execution_count": 154,
   "id": "9e6f1511-9efb-47d8-93b0-cf0250e5964f",
   "metadata": {},
   "outputs": [
    {
     "data": {
      "text/plain": [
       "(1000000, 144)"
      ]
     },
     "execution_count": 154,
     "metadata": {},
     "output_type": "execute_result"
    }
   ],
   "source": [
    "new_df.shape"
   ]
  },
  {
   "cell_type": "code",
   "execution_count": 157,
   "id": "484bc7e0-3eae-4e99-b6ed-b0e114b14fd6",
   "metadata": {},
   "outputs": [
    {
     "data": {
      "text/html": [
       "<div>\n",
       "<style scoped>\n",
       "    .dataframe tbody tr th:only-of-type {\n",
       "        vertical-align: middle;\n",
       "    }\n",
       "\n",
       "    .dataframe tbody tr th {\n",
       "        vertical-align: top;\n",
       "    }\n",
       "\n",
       "    .dataframe thead th {\n",
       "        text-align: right;\n",
       "    }\n",
       "</style>\n",
       "<table border=\"1\" class=\"dataframe\">\n",
       "  <thead>\n",
       "    <tr style=\"text-align: right;\">\n",
       "      <th></th>\n",
       "      <th>0</th>\n",
       "      <th>1</th>\n",
       "      <th>2</th>\n",
       "      <th>3</th>\n",
       "      <th>4</th>\n",
       "      <th>5</th>\n",
       "      <th>6</th>\n",
       "      <th>7</th>\n",
       "      <th>8</th>\n",
       "      <th>9</th>\n",
       "      <th>...</th>\n",
       "      <th>134</th>\n",
       "      <th>135</th>\n",
       "      <th>136</th>\n",
       "      <th>137</th>\n",
       "      <th>138</th>\n",
       "      <th>139</th>\n",
       "      <th>140</th>\n",
       "      <th>141</th>\n",
       "      <th>142</th>\n",
       "      <th>143</th>\n",
       "    </tr>\n",
       "  </thead>\n",
       "  <tbody>\n",
       "    <tr>\n",
       "      <th>169999</th>\n",
       "      <td>-95.568436</td>\n",
       "      <td>5.848045</td>\n",
       "      <td>-33.384964</td>\n",
       "      <td>-135.99408</td>\n",
       "      <td>157.5545</td>\n",
       "      <td>-99.63469</td>\n",
       "      <td>-167.107564</td>\n",
       "      <td>187.00198</td>\n",
       "      <td>110.85147</td>\n",
       "      <td>135.60852</td>\n",
       "      <td>...</td>\n",
       "      <td>-34.089363</td>\n",
       "      <td>1.435894</td>\n",
       "      <td>-116.818016</td>\n",
       "      <td>-4.27137</td>\n",
       "      <td>70.32545</td>\n",
       "      <td>-38.781143</td>\n",
       "      <td>28.125076</td>\n",
       "      <td>123.12337</td>\n",
       "      <td>69.018969</td>\n",
       "      <td>-121.8945</td>\n",
       "    </tr>\n",
       "  </tbody>\n",
       "</table>\n",
       "<p>1 rows × 144 columns</p>\n",
       "</div>"
      ],
      "text/plain": [
       "              0         1          2          3         4         5    \\\n",
       "169999 -95.568436  5.848045 -33.384964 -135.99408  157.5545 -99.63469   \n",
       "\n",
       "               6          7          8          9    ...        134       135  \\\n",
       "169999 -167.107564  187.00198  110.85147  135.60852  ... -34.089363  1.435894   \n",
       "\n",
       "               136      137       138        139        140        141  \\\n",
       "169999 -116.818016 -4.27137  70.32545 -38.781143  28.125076  123.12337   \n",
       "\n",
       "              142       143  \n",
       "169999  69.018969 -121.8945  \n",
       "\n",
       "[1 rows x 144 columns]"
      ]
     },
     "execution_count": 157,
     "metadata": {},
     "output_type": "execute_result"
    }
   ],
   "source": [
    "new_df.sample()"
   ]
  },
  {
   "cell_type": "code",
   "execution_count": 199,
   "id": "f72a3967-e26a-4c10-a5e4-0800c64b7d02",
   "metadata": {},
   "outputs": [],
   "source": [
    "#multiplying '0-query', '1-query' 10 times (beacuse took 10 knn for FAISS)\n",
    "repeated_indices = np.repeat( df_train.index.tolist(), 10) \n",
    "#adding new column with 'queries'\n",
    "new_df['index_from_df_train'] = repeated_indices[:len(new_df)]"
   ]
  },
  {
   "cell_type": "code",
   "execution_count": 212,
   "id": "c6229775-8a5f-4d1b-a6bc-3f62a1c3e941",
   "metadata": {},
   "outputs": [],
   "source": [
    "#adding base_index to df, because idx are list of lists, using chain.from_iterable\n",
    "new_df['base_index'] = list(chain.from_iterable(df_idx.loc[:, :9].values.tolist()))"
   ]
  },
  {
   "cell_type": "code",
   "execution_count": 221,
   "id": "fecf8d0a-5061-428f-a1c5-210f7d20648e",
   "metadata": {
    "scrolled": true,
    "tags": []
   },
   "outputs": [
    {
     "name": "stderr",
     "output_type": "stream",
     "text": [
      "C:\\Users\\Vasilii\\AppData\\Local\\Temp\\ipykernel_12328\\3304530331.py:2: DeprecationWarning: elementwise comparison failed; this will raise an error in the future.\n",
      "  ((new_df['index_from_df_train'].values == targets['Id'].values) & (new_df['base_index'].values == targets['base_index'].values)), 1, 0)\n"
     ]
    }
   ],
   "source": [
    "#adding new target for next model\n",
    "new_df['new_target'] = np.where(\n",
    "    ((new_df['index_from_df_train'].values == targets['Id'].values) & (new_df['base_index'].values == targets['base_index'].values)),\n",
    "    1,\n",
    "    0\n",
    ")"
   ]
  },
  {
   "cell_type": "code",
   "execution_count": 224,
   "id": "236e41af-4a83-4639-b9d9-3ca4a1c17d9f",
   "metadata": {},
   "outputs": [
    {
     "data": {
      "text/html": [
       "<div>\n",
       "<style scoped>\n",
       "    .dataframe tbody tr th:only-of-type {\n",
       "        vertical-align: middle;\n",
       "    }\n",
       "\n",
       "    .dataframe tbody tr th {\n",
       "        vertical-align: top;\n",
       "    }\n",
       "\n",
       "    .dataframe thead th {\n",
       "        text-align: right;\n",
       "    }\n",
       "</style>\n",
       "<table border=\"1\" class=\"dataframe\">\n",
       "  <thead>\n",
       "    <tr style=\"text-align: right;\">\n",
       "      <th></th>\n",
       "      <th>0</th>\n",
       "      <th>1</th>\n",
       "      <th>2</th>\n",
       "      <th>3</th>\n",
       "      <th>4</th>\n",
       "      <th>5</th>\n",
       "      <th>6</th>\n",
       "      <th>7</th>\n",
       "      <th>8</th>\n",
       "      <th>9</th>\n",
       "      <th>...</th>\n",
       "      <th>137</th>\n",
       "      <th>138</th>\n",
       "      <th>139</th>\n",
       "      <th>140</th>\n",
       "      <th>141</th>\n",
       "      <th>142</th>\n",
       "      <th>143</th>\n",
       "      <th>index_from_df_train</th>\n",
       "      <th>base_index</th>\n",
       "      <th>new_target</th>\n",
       "    </tr>\n",
       "  </thead>\n",
       "  <tbody>\n",
       "    <tr>\n",
       "      <th>0</th>\n",
       "      <td>-53.882748</td>\n",
       "      <td>17.971436</td>\n",
       "      <td>-42.117104</td>\n",
       "      <td>-183.93668</td>\n",
       "      <td>187.51749</td>\n",
       "      <td>-87.14493</td>\n",
       "      <td>-347.360606</td>\n",
       "      <td>38.307602</td>\n",
       "      <td>109.08556</td>\n",
       "      <td>30.413513</td>\n",
       "      <td>...</td>\n",
       "      <td>-142.179746</td>\n",
       "      <td>68.043070</td>\n",
       "      <td>45.451233</td>\n",
       "      <td>94.673775</td>\n",
       "      <td>87.458496</td>\n",
       "      <td>-499.761047</td>\n",
       "      <td>-35.091328</td>\n",
       "      <td>0-query</td>\n",
       "      <td>1480698</td>\n",
       "      <td>0</td>\n",
       "    </tr>\n",
       "    <tr>\n",
       "      <th>1</th>\n",
       "      <td>-53.882748</td>\n",
       "      <td>17.971436</td>\n",
       "      <td>-42.117104</td>\n",
       "      <td>-183.93668</td>\n",
       "      <td>187.51749</td>\n",
       "      <td>-87.14493</td>\n",
       "      <td>-347.360606</td>\n",
       "      <td>38.307602</td>\n",
       "      <td>109.08556</td>\n",
       "      <td>30.413513</td>\n",
       "      <td>...</td>\n",
       "      <td>-129.261362</td>\n",
       "      <td>68.919860</td>\n",
       "      <td>91.192120</td>\n",
       "      <td>110.904330</td>\n",
       "      <td>125.881030</td>\n",
       "      <td>-366.508894</td>\n",
       "      <td>-53.070760</td>\n",
       "      <td>0-query</td>\n",
       "      <td>161948</td>\n",
       "      <td>0</td>\n",
       "    </tr>\n",
       "    <tr>\n",
       "      <th>2</th>\n",
       "      <td>-53.882748</td>\n",
       "      <td>17.971436</td>\n",
       "      <td>-42.117104</td>\n",
       "      <td>-183.93668</td>\n",
       "      <td>187.51749</td>\n",
       "      <td>-87.14493</td>\n",
       "      <td>-347.360606</td>\n",
       "      <td>38.307602</td>\n",
       "      <td>109.08556</td>\n",
       "      <td>30.413513</td>\n",
       "      <td>...</td>\n",
       "      <td>36.156667</td>\n",
       "      <td>67.159940</td>\n",
       "      <td>85.671130</td>\n",
       "      <td>69.763115</td>\n",
       "      <td>128.357040</td>\n",
       "      <td>-308.115944</td>\n",
       "      <td>-53.935226</td>\n",
       "      <td>0-query</td>\n",
       "      <td>1076334</td>\n",
       "      <td>0</td>\n",
       "    </tr>\n",
       "    <tr>\n",
       "      <th>3</th>\n",
       "      <td>-53.882748</td>\n",
       "      <td>17.971436</td>\n",
       "      <td>-42.117104</td>\n",
       "      <td>-183.93668</td>\n",
       "      <td>187.51749</td>\n",
       "      <td>-87.14493</td>\n",
       "      <td>-347.360606</td>\n",
       "      <td>38.307602</td>\n",
       "      <td>109.08556</td>\n",
       "      <td>30.413513</td>\n",
       "      <td>...</td>\n",
       "      <td>-51.306075</td>\n",
       "      <td>67.306046</td>\n",
       "      <td>-2.194824</td>\n",
       "      <td>75.213410</td>\n",
       "      <td>144.907260</td>\n",
       "      <td>-546.084658</td>\n",
       "      <td>-84.147050</td>\n",
       "      <td>0-query</td>\n",
       "      <td>1882633</td>\n",
       "      <td>0</td>\n",
       "    </tr>\n",
       "    <tr>\n",
       "      <th>4</th>\n",
       "      <td>-53.882748</td>\n",
       "      <td>17.971436</td>\n",
       "      <td>-42.117104</td>\n",
       "      <td>-183.93668</td>\n",
       "      <td>187.51749</td>\n",
       "      <td>-87.14493</td>\n",
       "      <td>-347.360606</td>\n",
       "      <td>38.307602</td>\n",
       "      <td>109.08556</td>\n",
       "      <td>30.413513</td>\n",
       "      <td>...</td>\n",
       "      <td>-111.820343</td>\n",
       "      <td>69.182434</td>\n",
       "      <td>-33.080030</td>\n",
       "      <td>49.920914</td>\n",
       "      <td>76.084885</td>\n",
       "      <td>-359.877415</td>\n",
       "      <td>31.329930</td>\n",
       "      <td>0-query</td>\n",
       "      <td>1282393</td>\n",
       "      <td>0</td>\n",
       "    </tr>\n",
       "    <tr>\n",
       "      <th>...</th>\n",
       "      <td>...</td>\n",
       "      <td>...</td>\n",
       "      <td>...</td>\n",
       "      <td>...</td>\n",
       "      <td>...</td>\n",
       "      <td>...</td>\n",
       "      <td>...</td>\n",
       "      <td>...</td>\n",
       "      <td>...</td>\n",
       "      <td>...</td>\n",
       "      <td>...</td>\n",
       "      <td>...</td>\n",
       "      <td>...</td>\n",
       "      <td>...</td>\n",
       "      <td>...</td>\n",
       "      <td>...</td>\n",
       "      <td>...</td>\n",
       "      <td>...</td>\n",
       "      <td>...</td>\n",
       "      <td>...</td>\n",
       "      <td>...</td>\n",
       "    </tr>\n",
       "    <tr>\n",
       "      <th>999995</th>\n",
       "      <td>-89.048460</td>\n",
       "      <td>10.938594</td>\n",
       "      <td>-53.206207</td>\n",
       "      <td>-144.18858</td>\n",
       "      <td>143.44533</td>\n",
       "      <td>-86.68419</td>\n",
       "      <td>-79.986290</td>\n",
       "      <td>77.225540</td>\n",
       "      <td>117.94943</td>\n",
       "      <td>73.297440</td>\n",
       "      <td>...</td>\n",
       "      <td>-144.574095</td>\n",
       "      <td>68.832670</td>\n",
       "      <td>-13.681173</td>\n",
       "      <td>67.930880</td>\n",
       "      <td>103.296555</td>\n",
       "      <td>-57.329750</td>\n",
       "      <td>-66.347500</td>\n",
       "      <td>99999-query</td>\n",
       "      <td>1499488</td>\n",
       "      <td>0</td>\n",
       "    </tr>\n",
       "    <tr>\n",
       "      <th>999996</th>\n",
       "      <td>-89.048460</td>\n",
       "      <td>10.938594</td>\n",
       "      <td>-53.206207</td>\n",
       "      <td>-144.18858</td>\n",
       "      <td>143.44533</td>\n",
       "      <td>-86.68419</td>\n",
       "      <td>-79.986290</td>\n",
       "      <td>77.225540</td>\n",
       "      <td>117.94943</td>\n",
       "      <td>73.297440</td>\n",
       "      <td>...</td>\n",
       "      <td>-74.916139</td>\n",
       "      <td>67.944860</td>\n",
       "      <td>75.384270</td>\n",
       "      <td>128.464600</td>\n",
       "      <td>138.163040</td>\n",
       "      <td>11.107604</td>\n",
       "      <td>-79.000980</td>\n",
       "      <td>99999-query</td>\n",
       "      <td>1831967</td>\n",
       "      <td>0</td>\n",
       "    </tr>\n",
       "    <tr>\n",
       "      <th>999997</th>\n",
       "      <td>-89.048460</td>\n",
       "      <td>10.938594</td>\n",
       "      <td>-53.206207</td>\n",
       "      <td>-144.18858</td>\n",
       "      <td>143.44533</td>\n",
       "      <td>-86.68419</td>\n",
       "      <td>-79.986290</td>\n",
       "      <td>77.225540</td>\n",
       "      <td>117.94943</td>\n",
       "      <td>73.297440</td>\n",
       "      <td>...</td>\n",
       "      <td>-20.492306</td>\n",
       "      <td>66.089714</td>\n",
       "      <td>-14.579290</td>\n",
       "      <td>136.806580</td>\n",
       "      <td>136.402470</td>\n",
       "      <td>71.325172</td>\n",
       "      <td>-57.141823</td>\n",
       "      <td>99999-query</td>\n",
       "      <td>1934483</td>\n",
       "      <td>0</td>\n",
       "    </tr>\n",
       "    <tr>\n",
       "      <th>999998</th>\n",
       "      <td>-89.048460</td>\n",
       "      <td>10.938594</td>\n",
       "      <td>-53.206207</td>\n",
       "      <td>-144.18858</td>\n",
       "      <td>143.44533</td>\n",
       "      <td>-86.68419</td>\n",
       "      <td>-79.986290</td>\n",
       "      <td>77.225540</td>\n",
       "      <td>117.94943</td>\n",
       "      <td>73.297440</td>\n",
       "      <td>...</td>\n",
       "      <td>-38.924965</td>\n",
       "      <td>69.922450</td>\n",
       "      <td>8.233225</td>\n",
       "      <td>70.862656</td>\n",
       "      <td>82.222380</td>\n",
       "      <td>12.653885</td>\n",
       "      <td>-80.160230</td>\n",
       "      <td>99999-query</td>\n",
       "      <td>641628</td>\n",
       "      <td>0</td>\n",
       "    </tr>\n",
       "    <tr>\n",
       "      <th>999999</th>\n",
       "      <td>-89.048460</td>\n",
       "      <td>10.938594</td>\n",
       "      <td>-53.206207</td>\n",
       "      <td>-144.18858</td>\n",
       "      <td>143.44533</td>\n",
       "      <td>-86.68419</td>\n",
       "      <td>-79.986290</td>\n",
       "      <td>77.225540</td>\n",
       "      <td>117.94943</td>\n",
       "      <td>73.297440</td>\n",
       "      <td>...</td>\n",
       "      <td>-109.336134</td>\n",
       "      <td>72.919624</td>\n",
       "      <td>50.226160</td>\n",
       "      <td>-5.335960</td>\n",
       "      <td>130.318480</td>\n",
       "      <td>-59.307054</td>\n",
       "      <td>-72.850680</td>\n",
       "      <td>99999-query</td>\n",
       "      <td>2146338</td>\n",
       "      <td>0</td>\n",
       "    </tr>\n",
       "  </tbody>\n",
       "</table>\n",
       "<p>1000000 rows × 147 columns</p>\n",
       "</div>"
      ],
      "text/plain": [
       "                0          1          2          3          4         5  \\\n",
       "0      -53.882748  17.971436 -42.117104 -183.93668  187.51749 -87.14493   \n",
       "1      -53.882748  17.971436 -42.117104 -183.93668  187.51749 -87.14493   \n",
       "2      -53.882748  17.971436 -42.117104 -183.93668  187.51749 -87.14493   \n",
       "3      -53.882748  17.971436 -42.117104 -183.93668  187.51749 -87.14493   \n",
       "4      -53.882748  17.971436 -42.117104 -183.93668  187.51749 -87.14493   \n",
       "...           ...        ...        ...        ...        ...       ...   \n",
       "999995 -89.048460  10.938594 -53.206207 -144.18858  143.44533 -86.68419   \n",
       "999996 -89.048460  10.938594 -53.206207 -144.18858  143.44533 -86.68419   \n",
       "999997 -89.048460  10.938594 -53.206207 -144.18858  143.44533 -86.68419   \n",
       "999998 -89.048460  10.938594 -53.206207 -144.18858  143.44533 -86.68419   \n",
       "999999 -89.048460  10.938594 -53.206207 -144.18858  143.44533 -86.68419   \n",
       "\n",
       "                 6          7          8          9  ...         137  \\\n",
       "0      -347.360606  38.307602  109.08556  30.413513  ... -142.179746   \n",
       "1      -347.360606  38.307602  109.08556  30.413513  ... -129.261362   \n",
       "2      -347.360606  38.307602  109.08556  30.413513  ...   36.156667   \n",
       "3      -347.360606  38.307602  109.08556  30.413513  ...  -51.306075   \n",
       "4      -347.360606  38.307602  109.08556  30.413513  ... -111.820343   \n",
       "...            ...        ...        ...        ...  ...         ...   \n",
       "999995  -79.986290  77.225540  117.94943  73.297440  ... -144.574095   \n",
       "999996  -79.986290  77.225540  117.94943  73.297440  ...  -74.916139   \n",
       "999997  -79.986290  77.225540  117.94943  73.297440  ...  -20.492306   \n",
       "999998  -79.986290  77.225540  117.94943  73.297440  ...  -38.924965   \n",
       "999999  -79.986290  77.225540  117.94943  73.297440  ... -109.336134   \n",
       "\n",
       "              138        139         140         141         142        143  \\\n",
       "0       68.043070  45.451233   94.673775   87.458496 -499.761047 -35.091328   \n",
       "1       68.919860  91.192120  110.904330  125.881030 -366.508894 -53.070760   \n",
       "2       67.159940  85.671130   69.763115  128.357040 -308.115944 -53.935226   \n",
       "3       67.306046  -2.194824   75.213410  144.907260 -546.084658 -84.147050   \n",
       "4       69.182434 -33.080030   49.920914   76.084885 -359.877415  31.329930   \n",
       "...           ...        ...         ...         ...         ...        ...   \n",
       "999995  68.832670 -13.681173   67.930880  103.296555  -57.329750 -66.347500   \n",
       "999996  67.944860  75.384270  128.464600  138.163040   11.107604 -79.000980   \n",
       "999997  66.089714 -14.579290  136.806580  136.402470   71.325172 -57.141823   \n",
       "999998  69.922450   8.233225   70.862656   82.222380   12.653885 -80.160230   \n",
       "999999  72.919624  50.226160   -5.335960  130.318480  -59.307054 -72.850680   \n",
       "\n",
       "        index_from_df_train  base_index  new_target  \n",
       "0                   0-query     1480698           0  \n",
       "1                   0-query      161948           0  \n",
       "2                   0-query     1076334           0  \n",
       "3                   0-query     1882633           0  \n",
       "4                   0-query     1282393           0  \n",
       "...                     ...         ...         ...  \n",
       "999995          99999-query     1499488           0  \n",
       "999996          99999-query     1831967           0  \n",
       "999997          99999-query     1934483           0  \n",
       "999998          99999-query      641628           0  \n",
       "999999          99999-query     2146338           0  \n",
       "\n",
       "[1000000 rows x 147 columns]"
      ]
     },
     "execution_count": 224,
     "metadata": {},
     "output_type": "execute_result"
    }
   ],
   "source": [
    "new_df"
   ]
  },
  {
   "cell_type": "code",
   "execution_count": 226,
   "id": "ebdf4824-d594-41ab-bfe3-aca5b89c2619",
   "metadata": {},
   "outputs": [
    {
     "data": {
      "text/html": [
       "<div>\n",
       "<style scoped>\n",
       "    .dataframe tbody tr th:only-of-type {\n",
       "        vertical-align: middle;\n",
       "    }\n",
       "\n",
       "    .dataframe tbody tr th {\n",
       "        vertical-align: top;\n",
       "    }\n",
       "\n",
       "    .dataframe thead th {\n",
       "        text-align: right;\n",
       "    }\n",
       "</style>\n",
       "<table border=\"1\" class=\"dataframe\">\n",
       "  <thead>\n",
       "    <tr style=\"text-align: right;\">\n",
       "      <th></th>\n",
       "      <th>0</th>\n",
       "      <th>1</th>\n",
       "      <th>2</th>\n",
       "      <th>3</th>\n",
       "      <th>4</th>\n",
       "      <th>5</th>\n",
       "      <th>6</th>\n",
       "      <th>7</th>\n",
       "      <th>8</th>\n",
       "      <th>9</th>\n",
       "      <th>...</th>\n",
       "      <th>137</th>\n",
       "      <th>138</th>\n",
       "      <th>139</th>\n",
       "      <th>140</th>\n",
       "      <th>141</th>\n",
       "      <th>142</th>\n",
       "      <th>143</th>\n",
       "      <th>index_from_df_train</th>\n",
       "      <th>base_index</th>\n",
       "      <th>new_target</th>\n",
       "    </tr>\n",
       "  </thead>\n",
       "  <tbody>\n",
       "  </tbody>\n",
       "</table>\n",
       "<p>0 rows × 147 columns</p>\n",
       "</div>"
      ],
      "text/plain": [
       "Empty DataFrame\n",
       "Columns: [0, 1, 2, 3, 4, 5, 6, 7, 8, 9, 10, 11, 12, 13, 14, 15, 16, 17, 18, 19, 20, 21, 22, 23, 24, 25, 26, 27, 28, 29, 30, 31, 32, 33, 34, 35, 36, 37, 38, 39, 40, 41, 42, 43, 44, 45, 46, 47, 48, 49, 50, 51, 52, 53, 54, 55, 56, 57, 58, 59, 60, 61, 62, 63, 64, 65, 66, 67, 68, 69, 70, 71, 72, 73, 74, 75, 76, 77, 78, 79, 80, 81, 82, 83, 84, 85, 86, 87, 88, 89, 90, 91, 92, 93, 94, 95, 96, 97, 98, 99, ...]\n",
       "Index: []\n",
       "\n",
       "[0 rows x 147 columns]"
      ]
     },
     "execution_count": 226,
     "metadata": {},
     "output_type": "execute_result"
    }
   ],
   "source": [
    "new_df[new_df['new_target']==1]"
   ]
  },
  {
   "cell_type": "markdown",
   "id": "dd015f45-ad1f-464f-bc63-9d7c0a985309",
   "metadata": {},
   "source": [
    "Строка выше показывает что алгоритм не нашёл соответствия между полученными knn и указанным target'ом в исходном датасете для обучения."
   ]
  },
  {
   "cell_type": "markdown",
   "id": "470a0c96-9cc6-412b-8f95-a1b9cf66abdd",
   "metadata": {},
   "source": [
    "## NEED HELP! :("
   ]
  },
  {
   "cell_type": "markdown",
   "id": "954e791e-6575-44b4-a594-047da4e1a9b1",
   "metadata": {},
   "source": [
    "Во-первых: если я правильно понимаю, accuracy после применения faiss показал на моих расчетах 17%, при этом у меня в текущем новом датафрейме 0 совпадений, видимо я что-то не так сделал для получения нового датасета."
   ]
  },
  {
   "cell_type": "markdown",
   "id": "b0ce55ba-9ae8-4641-8b6d-b76450b9f7d9",
   "metadata": {},
   "source": [
    "Во-вторых: мастабирование данных - пробовал MinMaxScaler(), но тогда accuracy для faiss падал до 0%."
   ]
  },
  {
   "cell_type": "markdown",
   "id": "f47dd209-a033-4330-9f3a-859391a67bef",
   "metadata": {},
   "source": [
    "В-третьих: Далее алгоритм понятен\n",
    "* Разделить датасет на train/valid/test\n",
    "* Применить GridSearchCV для разных моделей CatBoost\n",
    "* Высчитать predict_proba и взять топ лучших ответов для подсчета accuracy@5\n",
    "\n",
    "\n",
    "Но борьба с faiss'ом и датасетом довела до того, что глаза замылились:(\n",
    "\n",
    "\n",
    "Прошу дать комментарии/советы по вышестоящим вопросам, что улучшить"
   ]
  },
  {
   "cell_type": "code",
   "execution_count": null,
   "id": "9e5e4c45-06ee-41ec-aa4d-9268e48c5521",
   "metadata": {},
   "outputs": [],
   "source": []
  }
 ],
 "metadata": {
  "kernelspec": {
   "display_name": "Python 3 (ipykernel)",
   "language": "python",
   "name": "python3"
  },
  "language_info": {
   "codemirror_mode": {
    "name": "ipython",
    "version": 3
   },
   "file_extension": ".py",
   "mimetype": "text/x-python",
   "name": "python",
   "nbconvert_exporter": "python",
   "pygments_lexer": "ipython3",
   "version": "3.10.9"
  }
 },
 "nbformat": 4,
 "nbformat_minor": 5
}
